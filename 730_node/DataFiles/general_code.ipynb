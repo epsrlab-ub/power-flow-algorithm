{
 "cells": [
  {
   "cell_type": "code",
   "execution_count": null,
   "id": "25da2ad3",
   "metadata": {},
   "outputs": [],
   "source": [
    "import pandas as pd\n",
    "\n",
    "# Adjust delimiter as needed (e.g., '\\t' for tab, ' ' for space, ',' for comma)\n",
    "df = pd.read_csv('PQ.txt', delimiter='\\t')  # or delimiter=' ' for space\n",
    "df.to_csv('730_powerdata.csv', index=False)\n"
   ]
  },
  {
   "cell_type": "code",
   "execution_count": null,
   "id": "dc7f95b2",
   "metadata": {},
   "outputs": [],
   "source": [
    "df.head()"
   ]
  },
  {
   "cell_type": "code",
   "execution_count": null,
   "id": "939c9aab",
   "metadata": {},
   "outputs": [],
   "source": []
  }
 ],
 "metadata": {
  "language_info": {
   "name": "python"
  }
 },
 "nbformat": 4,
 "nbformat_minor": 5
}
