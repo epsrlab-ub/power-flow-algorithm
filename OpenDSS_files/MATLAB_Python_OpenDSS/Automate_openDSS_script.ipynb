{
 "cells": [
  {
   "cell_type": "markdown",
   "id": "3010b62a-6072-4440-ba85-988799a4ab3c",
   "metadata": {},
   "source": [
    "## Generate Load Data"
   ]
  },
  {
   "cell_type": "code",
   "execution_count": 8,
   "id": "90389638-3b82-4a4c-b789-f72649ab3203",
   "metadata": {},
   "outputs": [],
   "source": [
    "def generate_opendss_load_script(load_data, phases, kv, Vminpu = 0.9, Vmaxpu = 1.1):\n",
    "    # Initialize an empty string to hold the full script\n",
    "    opendss_script = \"\"\n",
    "    \n",
    "    # Iterate over each row in the line_data\n",
    "    for i, row in enumerate(load_data[1:], start=1):\n",
    "        bus_number, P, Q = row  # Unpack the row\n",
    "        \n",
    "        # Format the OpenDSS command for this line\n",
    "        load_command = f\"New Load.load{i} bus1={int(bus_number)} phases={phases} kv={kv:.2f} kw={P:.2f} kvar={Q:.2f} Vminpu = {Vminpu} Vmaxpu = {Vmaxpu}\\n\"\n",
    "        \n",
    "\n",
    "        # Append the line command to the full script\n",
    "        opendss_script += load_command\n",
    "    \n",
    "    return opendss_script"
   ]
  },
  {
   "cell_type": "markdown",
   "id": "bf5c581e-f97e-485e-b49c-581cc42bc16e",
   "metadata": {},
   "source": [
    "## Generate Line Data"
   ]
  },
  {
   "cell_type": "code",
   "execution_count": 9,
   "id": "e9821aad-db89-431b-8a17-66b74bac1903",
   "metadata": {},
   "outputs": [],
   "source": [
    "def generate_opendss_line_script(line_data, phases):\n",
    "    # Initialize an empty string to hold the full script\n",
    "    opendss_script = \"\"\n",
    "    \n",
    "    # Iterate over each row in the line_data\n",
    "    for i, row in enumerate(line_data, start=1):\n",
    "        sending, receiving, R, X = row  # Unpack the row\n",
    "        \n",
    "        # Format the OpenDSS command for this line\n",
    "        line_command = f\"New Line.Line{i} bus1={int(sending)} bus2={int(receiving)} phases={phases} R1={R:.4f} X1={X:.4f}\\n\"\n",
    "        \n",
    "        # Append the line command to the full script\n",
    "        opendss_script += line_command\n",
    "    \n",
    "    return opendss_script"
   ]
  },
  {
   "cell_type": "markdown",
   "id": "2e76828f-80d3-49e5-8f75-6cfc5cb570bb",
   "metadata": {},
   "source": [
    "## Call the Functions"
   ]
  },
  {
   "cell_type": "code",
   "execution_count": 11,
   "id": "83c34fb4-1b37-4ea9-8c4d-0164cc24aa49",
   "metadata": {},
   "outputs": [
    {
     "name": "stdout",
     "output_type": "stream",
     "text": [
      "New Load.load1 bus1=2 phases=1 kv=12.66 kw=100.00 kvar=60.00 Vminpu = 0.9 Vmaxpu = 1.1\n",
      "New Load.load2 bus1=3 phases=1 kv=12.66 kw=90.00 kvar=40.00 Vminpu = 0.9 Vmaxpu = 1.1\n",
      "New Load.load3 bus1=4 phases=1 kv=12.66 kw=120.00 kvar=80.00 Vminpu = 0.9 Vmaxpu = 1.1\n",
      "New Load.load4 bus1=5 phases=1 kv=12.66 kw=60.00 kvar=30.00 Vminpu = 0.9 Vmaxpu = 1.1\n",
      "New Load.load5 bus1=6 phases=1 kv=12.66 kw=60.00 kvar=20.00 Vminpu = 0.9 Vmaxpu = 1.1\n",
      "New Load.load6 bus1=7 phases=1 kv=12.66 kw=200.00 kvar=100.00 Vminpu = 0.9 Vmaxpu = 1.1\n",
      "New Load.load7 bus1=8 phases=1 kv=12.66 kw=200.00 kvar=100.00 Vminpu = 0.9 Vmaxpu = 1.1\n",
      "New Load.load8 bus1=9 phases=1 kv=12.66 kw=60.00 kvar=20.00 Vminpu = 0.9 Vmaxpu = 1.1\n",
      "New Load.load9 bus1=10 phases=1 kv=12.66 kw=60.00 kvar=20.00 Vminpu = 0.9 Vmaxpu = 1.1\n",
      "New Load.load10 bus1=11 phases=1 kv=12.66 kw=45.00 kvar=30.00 Vminpu = 0.9 Vmaxpu = 1.1\n",
      "New Load.load11 bus1=12 phases=1 kv=12.66 kw=60.00 kvar=35.00 Vminpu = 0.9 Vmaxpu = 1.1\n",
      "New Load.load12 bus1=13 phases=1 kv=12.66 kw=60.00 kvar=35.00 Vminpu = 0.9 Vmaxpu = 1.1\n",
      "New Load.load13 bus1=14 phases=1 kv=12.66 kw=120.00 kvar=80.00 Vminpu = 0.9 Vmaxpu = 1.1\n",
      "New Load.load14 bus1=15 phases=1 kv=12.66 kw=60.00 kvar=10.00 Vminpu = 0.9 Vmaxpu = 1.1\n",
      "New Load.load15 bus1=16 phases=1 kv=12.66 kw=60.00 kvar=20.00 Vminpu = 0.9 Vmaxpu = 1.1\n",
      "New Load.load16 bus1=17 phases=1 kv=12.66 kw=60.00 kvar=20.00 Vminpu = 0.9 Vmaxpu = 1.1\n",
      "New Load.load17 bus1=18 phases=1 kv=12.66 kw=90.00 kvar=40.00 Vminpu = 0.9 Vmaxpu = 1.1\n",
      "New Load.load18 bus1=19 phases=1 kv=12.66 kw=90.00 kvar=40.00 Vminpu = 0.9 Vmaxpu = 1.1\n",
      "New Load.load19 bus1=20 phases=1 kv=12.66 kw=90.00 kvar=40.00 Vminpu = 0.9 Vmaxpu = 1.1\n",
      "New Load.load20 bus1=21 phases=1 kv=12.66 kw=90.00 kvar=40.00 Vminpu = 0.9 Vmaxpu = 1.1\n",
      "New Load.load21 bus1=22 phases=1 kv=12.66 kw=90.00 kvar=40.00 Vminpu = 0.9 Vmaxpu = 1.1\n",
      "New Load.load22 bus1=23 phases=1 kv=12.66 kw=90.00 kvar=50.00 Vminpu = 0.9 Vmaxpu = 1.1\n",
      "New Load.load23 bus1=24 phases=1 kv=12.66 kw=420.00 kvar=200.00 Vminpu = 0.9 Vmaxpu = 1.1\n",
      "New Load.load24 bus1=25 phases=1 kv=12.66 kw=420.00 kvar=200.00 Vminpu = 0.9 Vmaxpu = 1.1\n",
      "New Load.load25 bus1=26 phases=1 kv=12.66 kw=60.00 kvar=25.00 Vminpu = 0.9 Vmaxpu = 1.1\n",
      "New Load.load26 bus1=27 phases=1 kv=12.66 kw=60.00 kvar=25.00 Vminpu = 0.9 Vmaxpu = 1.1\n",
      "New Load.load27 bus1=28 phases=1 kv=12.66 kw=60.00 kvar=20.00 Vminpu = 0.9 Vmaxpu = 1.1\n",
      "New Load.load28 bus1=29 phases=1 kv=12.66 kw=120.00 kvar=70.00 Vminpu = 0.9 Vmaxpu = 1.1\n",
      "New Load.load29 bus1=30 phases=1 kv=12.66 kw=200.00 kvar=600.00 Vminpu = 0.9 Vmaxpu = 1.1\n",
      "New Load.load30 bus1=31 phases=1 kv=12.66 kw=150.00 kvar=70.00 Vminpu = 0.9 Vmaxpu = 1.1\n",
      "New Load.load31 bus1=32 phases=1 kv=12.66 kw=210.00 kvar=100.00 Vminpu = 0.9 Vmaxpu = 1.1\n",
      "New Load.load32 bus1=33 phases=1 kv=12.66 kw=60.00 kvar=40.00 Vminpu = 0.9 Vmaxpu = 1.1\n",
      "\n",
      "New Line.Line1 bus1=1 bus2=2 phases=1 R1=0.0922 X1=0.0470\n",
      "New Line.Line2 bus1=2 bus2=3 phases=1 R1=0.4930 X1=0.2511\n",
      "New Line.Line3 bus1=3 bus2=4 phases=1 R1=0.3660 X1=0.1864\n",
      "New Line.Line4 bus1=4 bus2=5 phases=1 R1=0.3811 X1=0.1941\n",
      "New Line.Line5 bus1=5 bus2=6 phases=1 R1=0.8190 X1=0.7070\n",
      "New Line.Line6 bus1=6 bus2=7 phases=1 R1=0.1872 X1=0.6188\n",
      "New Line.Line7 bus1=7 bus2=8 phases=1 R1=0.7114 X1=0.2351\n",
      "New Line.Line8 bus1=8 bus2=9 phases=1 R1=1.0300 X1=0.7400\n",
      "New Line.Line9 bus1=9 bus2=10 phases=1 R1=1.0440 X1=0.7400\n",
      "New Line.Line10 bus1=10 bus2=11 phases=1 R1=0.1966 X1=0.0650\n",
      "New Line.Line11 bus1=11 bus2=12 phases=1 R1=0.3744 X1=0.1238\n",
      "New Line.Line12 bus1=12 bus2=13 phases=1 R1=1.4680 X1=1.1550\n",
      "New Line.Line13 bus1=13 bus2=14 phases=1 R1=0.5416 X1=0.7129\n",
      "New Line.Line14 bus1=14 bus2=15 phases=1 R1=0.5910 X1=0.5260\n",
      "New Line.Line15 bus1=15 bus2=16 phases=1 R1=0.7463 X1=0.5450\n",
      "New Line.Line16 bus1=16 bus2=17 phases=1 R1=1.2890 X1=1.7210\n",
      "New Line.Line17 bus1=17 bus2=18 phases=1 R1=0.7320 X1=0.5740\n",
      "New Line.Line18 bus1=2 bus2=19 phases=1 R1=0.1640 X1=0.1565\n",
      "New Line.Line19 bus1=19 bus2=20 phases=1 R1=1.5042 X1=1.3554\n",
      "New Line.Line20 bus1=20 bus2=21 phases=1 R1=0.4095 X1=0.4784\n",
      "New Line.Line21 bus1=21 bus2=22 phases=1 R1=0.7089 X1=0.9373\n",
      "New Line.Line22 bus1=3 bus2=23 phases=1 R1=0.4512 X1=0.3083\n",
      "New Line.Line23 bus1=23 bus2=24 phases=1 R1=0.8980 X1=0.7091\n",
      "New Line.Line24 bus1=24 bus2=25 phases=1 R1=0.8960 X1=0.7011\n",
      "New Line.Line25 bus1=6 bus2=26 phases=1 R1=0.2030 X1=0.1034\n",
      "New Line.Line26 bus1=26 bus2=27 phases=1 R1=0.2842 X1=0.1447\n",
      "New Line.Line27 bus1=27 bus2=28 phases=1 R1=1.0590 X1=0.9337\n",
      "New Line.Line28 bus1=28 bus2=29 phases=1 R1=0.8042 X1=0.7006\n",
      "New Line.Line29 bus1=29 bus2=30 phases=1 R1=0.5075 X1=0.2585\n",
      "New Line.Line30 bus1=30 bus2=31 phases=1 R1=0.9744 X1=0.9630\n",
      "New Line.Line31 bus1=31 bus2=32 phases=1 R1=0.3105 X1=0.3619\n",
      "New Line.Line32 bus1=32 bus2=33 phases=1 R1=0.3410 X1=0.5302\n",
      "\n"
     ]
    }
   ],
   "source": [
    "import numpy as np\n",
    "\n",
    "# bus_data = pd.read_csv('powerdata_33bus.txt',delimiter='\\t', header=None, dtype={0: int}) \n",
    "bus_data = np.loadtxt('powerdata_33bus.txt')\n",
    "line_data = np.loadtxt('linedata_33bus.txt')\n",
    "\n",
    "\n",
    "load_scipt = generate_opendss_load_script(bus_data, phases=1, kv=12.66)\n",
    "line_scipt = generate_opendss_line_script(line_data, phases=1)\n",
    "print(load_scipt)\n",
    "print(line_scipt)"
   ]
  },
  {
   "cell_type": "code",
   "execution_count": null,
   "id": "cf5c0864-dda4-45a9-9c37-97ef463887a6",
   "metadata": {},
   "outputs": [],
   "source": []
  }
 ],
 "metadata": {
  "kernelspec": {
   "display_name": "Python 3 (ipykernel)",
   "language": "python",
   "name": "python3"
  },
  "language_info": {
   "codemirror_mode": {
    "name": "ipython",
    "version": 3
   },
   "file_extension": ".py",
   "mimetype": "text/x-python",
   "name": "python",
   "nbconvert_exporter": "python",
   "pygments_lexer": "ipython3",
   "version": "3.12.7"
  }
 },
 "nbformat": 4,
 "nbformat_minor": 5
}
